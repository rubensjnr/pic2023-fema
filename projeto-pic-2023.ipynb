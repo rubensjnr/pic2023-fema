{
 "cells": [
  {
   "cell_type": "code",
   "execution_count": 1,
   "id": "3373e322-bea8-4399-b3ee-7fb7fc99782a",
   "metadata": {
    "tags": []
   },
   "outputs": [
    {
     "name": "stdout",
     "output_type": "stream",
     "text": [
      "Requirement already satisfied: scikit-surprise in c:\\users\\rubens junior\\anaconda3\\lib\\site-packages (1.1.3)\n",
      "Requirement already satisfied: joblib>=1.0.0 in c:\\users\\rubens junior\\anaconda3\\lib\\site-packages (from scikit-surprise) (1.2.0)\n",
      "Requirement already satisfied: numpy>=1.17.3 in c:\\users\\rubens junior\\anaconda3\\lib\\site-packages (from scikit-surprise) (1.26.0)\n",
      "Requirement already satisfied: scipy>=1.3.2 in c:\\users\\rubens junior\\anaconda3\\lib\\site-packages (from scikit-surprise) (1.10.1)\n"
     ]
    }
   ],
   "source": [
    "# Instalando a biblioteca \"scikit-surprise\" no ambiente Python.\n",
    "!pip install scikit-surprise"
   ]
  },
  {
   "cell_type": "code",
   "execution_count": 2,
   "id": "1f8af9ef-c50d-4a99-92f5-7bd22c2a18c2",
   "metadata": {
    "tags": []
   },
   "outputs": [],
   "source": [
    "import heapq # Importando o módulo \"heapq\", que fornece funções relacionadas a filas de prioridade (heap).\n",
    "import os # Importando o módulo \"os\", que fornece funcionalidades para interagir com o sistema operacional.\n",
    "import csv # Importando o módulo \"csv\", que fornece funcionalidades para trabalhar com arquivos CSV (Comma-Separated Values).\n",
    "from surprise import KNNBasic # Importando a classe \"KNNBasic\" usada para criar um modelo de filtro colaborativo para sistemas de recomendação.\n",
    "from surprise import Dataset # Importando a classe \"Dataset\" que é usada para carregar e manipular conjuntos de dados usados em sistemas de recomendação. \n",
    "from surprise import Reader # Importando a classe \"Reader\" que é usada para definir a forma como os dados são lidos e interpretados.\n",
    "from collections import defaultdict # Importando a classe \"defaultdict\", sendo um dicionário em que pode-se definir um valor padrão para chaves não existentes.\n",
    "from operator import itemgetter # Importando a função \"itemgetter\", usada para acessar elementos de um objeto iterável, como uma lista, com base em índices ou chaves. "
   ]
  },
  {
   "cell_type": "code",
   "execution_count": 3,
   "id": "902a0db9-2945-4594-9fc2-27408ebc9b76",
   "metadata": {
    "tags": []
   },
   "outputs": [],
   "source": [
    "# Carregando as classificações dos filmes e retornando um conjunto de dados.\n",
    "def load_dataset():\n",
    "    reader = Reader(line_format='user item rating timestamp', sep=',', skip_lines=1)\n",
    "    ratings_dataset = Dataset.load_from_file('MovieLens/ratings.csv', reader=reader)\n",
    "# O pacote de dados do MovieLens, utilizado nesse exemplo, pode ser encontrado em: http://files.grouplens.org/datasets/movielens/ml-latest-small.zip\n",
    "\n",
    "# Busca o nome de um filme com o ID do Movielens como chave\n",
    "    movieID_to_name = {}\n",
    "    with open('MovieLens/movies.csv', newline='', encoding='ISO-8859-1') as csvfile:\n",
    "            movie_reader = csv.reader(csvfile)\n",
    "            next(movie_reader)\n",
    "            for row in movie_reader:\n",
    "                movieID = int(row[0])\n",
    "                movie_name = row[1]\n",
    "                movieID_to_name[movieID] = movie_name\n",
    "    # Retorna tanto o conjunto de dados quanto o dicionário de consulta em uma tupla (Lista imutável)\n",
    "    return (ratings_dataset, movieID_to_name)"
   ]
  },
  {
   "cell_type": "code",
   "execution_count": 4,
   "id": "739ccb26-14a5-4184-bbba-5049dbaf4ccb",
   "metadata": {
    "tags": []
   },
   "outputs": [],
   "source": [
    "# Carregando os dados de avaliações e mapeando os IDs de filmes para seus nomes\n",
    "dataset, movieID_to_name = load_dataset()"
   ]
  },
  {
   "cell_type": "code",
   "execution_count": 5,
   "id": "26407ca0-cd40-4cf7-bc51-c8ec6a3c2021",
   "metadata": {
    "tags": []
   },
   "outputs": [],
   "source": [
    "# Construindo um conjunto de treinamento completo do Surprise a partir do conjunto de dados recebidos anteriormente.\n",
    "trainset = dataset.build_full_trainset()"
   ]
  },
  {
   "cell_type": "code",
   "execution_count": 6,
   "id": "6b60f932-9d96-4cb5-af3e-86cbb92b2223",
   "metadata": {
    "tags": []
   },
   "outputs": [
    {
     "name": "stdout",
     "output_type": "stream",
     "text": [
      "Computing the cosine similarity matrix...\n",
      "Done computing similarity matrix.\n",
      "Computing the cosine similarity matrix...\n",
      "Done computing similarity matrix.\n"
     ]
    }
   ],
   "source": [
    "# Calculando uma matriz de similaridade dos filmes usando k-Nearest Neighbors (KNN) com base em filtragem colaborativa.\n",
    "# A matriz final representa o quão semelhantes são os itens uns aos outros com base nas avaliações dos usuários.\n",
    "similarity_matrix = KNNBasic(sim_options={\n",
    "        'name': 'cosine',\n",
    "        'user_based': False\n",
    "        })\\\n",
    "        .fit(trainset)\\\n",
    "        .compute_similarities()"
   ]
  },
  {
   "cell_type": "code",
   "execution_count": 7,
   "id": "46fe7260-2033-45c3-aa2a-31e97eaaee01",
   "metadata": {
    "tags": []
   },
   "outputs": [],
   "source": [
    "# Escolha um ID de usuário e veja como as recomendações finais, IDs númericos entre 1 e 610;\n",
    "\n",
    "test_subject = '1' # ID de um usuário escolhido\n",
    "\n",
    "k = 20 # Número de avaliações do usuário informado acima para utilização como base"
   ]
  },
  {
   "cell_type": "code",
   "execution_count": 8,
   "id": "fa503951-6d1e-4040-99e6-3358314c05ff",
   "metadata": {
    "tags": []
   },
   "outputs": [],
   "source": [
    "# Identificando os itens mais bem avaliados por um usuário específico no conjunto de treinamento e os armazena na lista k_neighbors\n",
    "\n",
    "# Convertendo o ID do usuário (que pode ser uma string ou número) em um ID exclusivo que a biblioteca Surprise pode usar mais facilmente para cálculos internos.\n",
    "# A ideia é que a biblioteca trabalha de maneira mais eficiente com IDs inteiros exclusivos.\n",
    "test_subject_iid = trainset.to_inner_uid(test_subject)\n",
    "\n",
    "# Buscando os principais K itens avaliados\n",
    "test_subject_ratings = trainset.ur[test_subject_iid]\n",
    "k_neighbors = heapq.nlargest(k, test_subject_ratings, key=lambda t: t[1])"
   ]
  },
  {
   "cell_type": "code",
   "execution_count": 9,
   "id": "5ee15c4b-759f-4f5c-9083-922c13a09d01",
   "metadata": {
    "tags": []
   },
   "outputs": [],
   "source": [
    "# Construindo uma lista de candidatos para recomendação de filmes com base em filmes similares aos que o usuário já classificou\n",
    "candidates = defaultdict(float)\n",
    "\n",
    "for itemID, rating in k_neighbors:\n",
    "    try:\n",
    "      similaritities = similarity_matrix[itemID]\n",
    "      for innerID, score in enumerate(similaritities):\n",
    "          candidates[innerID] += score * (rating / 5.0)\n",
    "    except:\n",
    "      continue"
   ]
  },
  {
   "cell_type": "code",
   "execution_count": 10,
   "id": "737c7839-2c93-42e8-9768-a8a556a75b3d",
   "metadata": {
    "tags": []
   },
   "outputs": [],
   "source": [
    "# Função usada para obter o nome de um filme com base em seu ID. caso o ID não exista, retorna uma string vazia.\n",
    "def getMovieName(movieID):\n",
    "  if int(movieID) in movieID_to_name:\n",
    "    return movieID_to_name[int(movieID)]\n",
    "  else:\n",
    "      return \"\""
   ]
  },
  {
   "cell_type": "code",
   "execution_count": 11,
   "id": "73007c59-cb2b-43be-adcc-5c641bc5af30",
   "metadata": {
    "tags": []
   },
   "outputs": [],
   "source": [
    "# Construindo um dicionário com os filmes que o usuário já assistiu.\n",
    "watched = {} # Inicia um dicionario vazio\n",
    "for itemID, rating in trainset.ur[test_subject_iid]:\n",
    "  watched[itemID] = 1\n",
    "# Adiciona o ID do filme como uma chave no dicionário com valor 1, indicando que o filme já foi assistido"
   ]
  },
  {
   "cell_type": "code",
   "execution_count": 12,
   "id": "0ae46947-a087-4eef-a10c-28cbb904f1db",
   "metadata": {
    "tags": []
   },
   "outputs": [
    {
     "name": "stdout",
     "output_type": "stream",
     "text": [
      "1 - Filme:  Hang 'Em High (1968)\n",
      "2 - Filme:  Moonlight Mile (2002)\n",
      "3 - Filme:  Meet John Doe (1941)\n",
      "4 - Filme:  Audition (Ãdishon) (1999)\n",
      "5 - Filme:  Other Boleyn Girl, The (2008)\n"
     ]
    }
   ],
   "source": [
    "# Gerando uma lista de filmes com base nas informações dos candidatos\n",
    "\n",
    "recommendations = [] #Lista inicialmente vazia\n",
    "position = 0 # Variável  para rastrear a posição dos filmes recomendados na lista.\n",
    "\n",
    "# Loop sobre os itens candidatos a recomendação com similaridades ponderadas\n",
    "# A função sorted ordena os itens em ordem decrescente de classificação (filmes mais relevantes aparecem primeiro)\n",
    "for itemID, rating_sum in sorted(candidates.items(), key=itemgetter(1), reverse=True):\n",
    "  if not itemID in watched: #Verifica se o filme já foi assistido pelo usuário\n",
    "    recommendations.append(getMovieName(trainset.to_raw_iid(itemID)))\n",
    "    position += 1\n",
    "    if (position > 4): break # Limita o numero de filmes que serão selecionados e gravados na lista \n",
    "    \n",
    "# Loop iterando sobre a lista de recomendações e imprime o nome de cada filme recomendado.\n",
    "for i, rec in enumerate(recommendations, start=1):\n",
    "  print(f\"{i} - Filme: \", rec) "
   ]
  },
  {
   "cell_type": "code",
   "execution_count": 13,
   "id": "f342da3c-e4e1-407e-93a3-169f3ccafaa7",
   "metadata": {},
   "outputs": [],
   "source": [
    "# Gerando uma lista de filmes com base nas informações dos candidatos\n",
    "def get_movie_id_by_name(movie_name, movieID_to_name):\n",
    "    for movie_id, name in movieID_to_name.items():\n",
    "        if movie_name.lower() in name.lower():\n",
    "            return movie_id\n",
    "    return None"
   ]
  },
  {
   "cell_type": "code",
   "execution_count": 14,
   "id": "b44e665f-9f18-4ff8-a8b0-b53fd3be8059",
   "metadata": {
    "tags": []
   },
   "outputs": [
    {
     "name": "stdout",
     "output_type": "stream",
     "text": [
      "Recomendações para o filme 'Top Gun':\n",
      "1 - Filme: Dolores Claiborne (1995) \n",
      "2 - Filme: Mixed Nuts (1994) \n",
      "3 - Filme: Miami Rhapsody (1995) \n",
      "4 - Filme: Murder in the First (1995) \n",
      "5 - Filme: Nina Takes a Lover (1994) \n"
     ]
    }
   ],
   "source": [
    "### Buscando um filme e recebendo recomendações com base nas avaliações de outros usuários e filmes ###\n",
    "\n",
    "# Nome do filme fornecido pelo usuário\n",
    "user_movie_name = \"Top Gun\" \n",
    "\n",
    "# Encontrando o ID do filme com base no nome\n",
    "user_movie_id = get_movie_id_by_name(user_movie_name, movieID_to_name)\n",
    "\n",
    "if user_movie_id is not None:\n",
    "    # Calculando a similaridade entre o filme fornecido e todos os outros filmes\n",
    "    similarities = similarity_matrix[user_movie_id]\n",
    "\n",
    "    # Criando uma lista de filmes recomendados com base na similaridade\n",
    "    recommended_movies = []\n",
    "    for movie_id, similarity_score in enumerate(similarities):\n",
    "        if movie_id != user_movie_id:\n",
    "            recommended_movies.append((movie_id, similarity_score))\n",
    "\n",
    "    # Ordenando a lista de recomendações com base na similaridade\n",
    "    recommended_movies.sort(key=lambda x: x[1], reverse=True)\n",
    "\n",
    "    # Imprimir os filmes recomendados\n",
    "    top_n = 5  # Número de filmes a recomendar\n",
    "    print(f\"Recomendações para o filme '{user_movie_name}':\")\n",
    "    for position, (movie_id, similarity_score) in enumerate (recommended_movies[:top_n], start = 1):\n",
    "        recommended_movie_name = movieID_to_name.get(movie_id, \"Desconhecido\") #Retorna desconhecido caso não encontre a ID do filme\n",
    "        print(f\"{position} - Filme: {recommended_movie_name} \") #(Similaridade: {similarity_score:.2f}))\n",
    "else:\n",
    "    print(f\"O filme '{user_movie_name}' não foi encontrado no conjunto de dados.\")\n"
   ]
  },
  {
   "cell_type": "code",
   "execution_count": 15,
   "id": "c09c3487-76e2-4ab0-8dfd-b4f833d2d51c",
   "metadata": {
    "tags": []
   },
   "outputs": [
    {
     "name": "stdout",
     "output_type": "stream",
     "text": [
      "\n",
      "XVI Fórum Científico | FEMA | PIC Rubens Junior, Guilherme Farto\n",
      "\n",
      "\tImplementação de um algoritmo de recomendação utilizando a biblioteca Sklearn-Surprise e a base de dados da MovieLens.\n"
     ]
    }
   ],
   "source": [
    "print(\"\\nXVI Fórum Científico | FEMA | PIC Rubens Junior, Guilherme Farto\")\n",
    "print(\"\\n\\tImplementação de um algoritmo de recomendação utilizando a biblioteca Sklearn-Surprise e a base de dados da MovieLens.\")"
   ]
  }
 ],
 "metadata": {
  "kernelspec": {
   "display_name": "Python 3 (ipykernel)",
   "language": "python",
   "name": "python3"
  },
  "language_info": {
   "codemirror_mode": {
    "name": "ipython",
    "version": 3
   },
   "file_extension": ".py",
   "mimetype": "text/x-python",
   "name": "python",
   "nbconvert_exporter": "python",
   "pygments_lexer": "ipython3",
   "version": "3.11.5"
  }
 },
 "nbformat": 4,
 "nbformat_minor": 5
}
